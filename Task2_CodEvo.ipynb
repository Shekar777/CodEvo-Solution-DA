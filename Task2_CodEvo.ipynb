{
  "nbformat": 4,
  "nbformat_minor": 0,
  "metadata": {
    "colab": {
      "provenance": [],
      "authorship_tag": "ABX9TyMnW+z9yICUDTgJfpde01+G",
      "include_colab_link": true
    },
    "kernelspec": {
      "name": "python3",
      "display_name": "Python 3"
    },
    "language_info": {
      "name": "python"
    }
  },
  "cells": [
    {
      "cell_type": "markdown",
      "metadata": {
        "id": "view-in-github",
        "colab_type": "text"
      },
      "source": [
        "<a href=\"https://colab.research.google.com/github/Shekar777/CodEvo-Solution-DA/blob/main/Task2_CodEvo.ipynb\" target=\"_parent\"><img src=\"https://colab.research.google.com/assets/colab-badge.svg\" alt=\"Open In Colab\"/></a>"
      ]
    },
    {
      "cell_type": "code",
      "execution_count": 2,
      "metadata": {
        "colab": {
          "base_uri": "https://localhost:8080/"
        },
        "id": "MiAuPHoeppEh",
        "outputId": "61406652-ff72-4ae2-88dd-fb6c91925966"
      },
      "outputs": [
        {
          "output_type": "stream",
          "name": "stdout",
          "text": [
            "Collecting newspaper3k\n",
            "  Downloading newspaper3k-0.2.8-py3-none-any.whl.metadata (11 kB)\n",
            "Collecting feedparser\n",
            "  Downloading feedparser-6.0.11-py3-none-any.whl.metadata (2.4 kB)\n",
            "Requirement already satisfied: beautifulsoup4>=4.4.1 in /usr/local/lib/python3.10/dist-packages (from newspaper3k) (4.12.3)\n",
            "Requirement already satisfied: Pillow>=3.3.0 in /usr/local/lib/python3.10/dist-packages (from newspaper3k) (9.4.0)\n",
            "Requirement already satisfied: PyYAML>=3.11 in /usr/local/lib/python3.10/dist-packages (from newspaper3k) (6.0.2)\n",
            "Collecting cssselect>=0.9.2 (from newspaper3k)\n",
            "  Downloading cssselect-1.2.0-py2.py3-none-any.whl.metadata (2.2 kB)\n",
            "Requirement already satisfied: lxml>=3.6.0 in /usr/local/lib/python3.10/dist-packages (from newspaper3k) (4.9.4)\n",
            "Requirement already satisfied: nltk>=3.2.1 in /usr/local/lib/python3.10/dist-packages (from newspaper3k) (3.8.1)\n",
            "Requirement already satisfied: requests>=2.10.0 in /usr/local/lib/python3.10/dist-packages (from newspaper3k) (2.32.3)\n",
            "Collecting tldextract>=2.0.1 (from newspaper3k)\n",
            "  Downloading tldextract-5.1.2-py3-none-any.whl.metadata (11 kB)\n",
            "Collecting feedfinder2>=0.0.4 (from newspaper3k)\n",
            "  Downloading feedfinder2-0.0.4.tar.gz (3.3 kB)\n",
            "  Preparing metadata (setup.py) ... \u001b[?25l\u001b[?25hdone\n",
            "Collecting jieba3k>=0.35.1 (from newspaper3k)\n",
            "  Downloading jieba3k-0.35.1.zip (7.4 MB)\n",
            "\u001b[2K     \u001b[90m━━━━━━━━━━━━━━━━━━━━━━━━━━━━━━━━━━━━━━━━\u001b[0m \u001b[32m7.4/7.4 MB\u001b[0m \u001b[31m44.6 MB/s\u001b[0m eta \u001b[36m0:00:00\u001b[0m\n",
            "\u001b[?25h  Preparing metadata (setup.py) ... \u001b[?25l\u001b[?25hdone\n",
            "Requirement already satisfied: python-dateutil>=2.5.3 in /usr/local/lib/python3.10/dist-packages (from newspaper3k) (2.8.2)\n",
            "Collecting tinysegmenter==0.3 (from newspaper3k)\n",
            "  Downloading tinysegmenter-0.3.tar.gz (16 kB)\n",
            "  Preparing metadata (setup.py) ... \u001b[?25l\u001b[?25hdone\n",
            "Collecting sgmllib3k (from feedparser)\n",
            "  Downloading sgmllib3k-1.0.0.tar.gz (5.8 kB)\n",
            "  Preparing metadata (setup.py) ... \u001b[?25l\u001b[?25hdone\n",
            "Requirement already satisfied: soupsieve>1.2 in /usr/local/lib/python3.10/dist-packages (from beautifulsoup4>=4.4.1->newspaper3k) (2.6)\n",
            "Requirement already satisfied: six in /usr/local/lib/python3.10/dist-packages (from feedfinder2>=0.0.4->newspaper3k) (1.16.0)\n",
            "Requirement already satisfied: click in /usr/local/lib/python3.10/dist-packages (from nltk>=3.2.1->newspaper3k) (8.1.7)\n",
            "Requirement already satisfied: joblib in /usr/local/lib/python3.10/dist-packages (from nltk>=3.2.1->newspaper3k) (1.4.2)\n",
            "Requirement already satisfied: regex>=2021.8.3 in /usr/local/lib/python3.10/dist-packages (from nltk>=3.2.1->newspaper3k) (2024.5.15)\n",
            "Requirement already satisfied: tqdm in /usr/local/lib/python3.10/dist-packages (from nltk>=3.2.1->newspaper3k) (4.66.5)\n",
            "Requirement already satisfied: charset-normalizer<4,>=2 in /usr/local/lib/python3.10/dist-packages (from requests>=2.10.0->newspaper3k) (3.3.2)\n",
            "Requirement already satisfied: idna<4,>=2.5 in /usr/local/lib/python3.10/dist-packages (from requests>=2.10.0->newspaper3k) (3.8)\n",
            "Requirement already satisfied: urllib3<3,>=1.21.1 in /usr/local/lib/python3.10/dist-packages (from requests>=2.10.0->newspaper3k) (2.0.7)\n",
            "Requirement already satisfied: certifi>=2017.4.17 in /usr/local/lib/python3.10/dist-packages (from requests>=2.10.0->newspaper3k) (2024.8.30)\n",
            "Collecting requests-file>=1.4 (from tldextract>=2.0.1->newspaper3k)\n",
            "  Downloading requests_file-2.1.0-py2.py3-none-any.whl.metadata (1.7 kB)\n",
            "Requirement already satisfied: filelock>=3.0.8 in /usr/local/lib/python3.10/dist-packages (from tldextract>=2.0.1->newspaper3k) (3.15.4)\n",
            "Downloading newspaper3k-0.2.8-py3-none-any.whl (211 kB)\n",
            "\u001b[2K   \u001b[90m━━━━━━━━━━━━━━━━━━━━━━━━━━━━━━━━━━━━━━━━\u001b[0m \u001b[32m211.1/211.1 kB\u001b[0m \u001b[31m14.2 MB/s\u001b[0m eta \u001b[36m0:00:00\u001b[0m\n",
            "\u001b[?25hDownloading feedparser-6.0.11-py3-none-any.whl (81 kB)\n",
            "\u001b[2K   \u001b[90m━━━━━━━━━━━━━━━━━━━━━━━━━━━━━━━━━━━━━━━━\u001b[0m \u001b[32m81.3/81.3 kB\u001b[0m \u001b[31m5.2 MB/s\u001b[0m eta \u001b[36m0:00:00\u001b[0m\n",
            "\u001b[?25hDownloading cssselect-1.2.0-py2.py3-none-any.whl (18 kB)\n",
            "Downloading tldextract-5.1.2-py3-none-any.whl (97 kB)\n",
            "\u001b[2K   \u001b[90m━━━━━━━━━━━━━━━━━━━━━━━━━━━━━━━━━━━━━━━━\u001b[0m \u001b[32m97.6/97.6 kB\u001b[0m \u001b[31m6.6 MB/s\u001b[0m eta \u001b[36m0:00:00\u001b[0m\n",
            "\u001b[?25hDownloading requests_file-2.1.0-py2.py3-none-any.whl (4.2 kB)\n",
            "Building wheels for collected packages: tinysegmenter, feedfinder2, jieba3k, sgmllib3k\n",
            "  Building wheel for tinysegmenter (setup.py) ... \u001b[?25l\u001b[?25hdone\n",
            "  Created wheel for tinysegmenter: filename=tinysegmenter-0.3-py3-none-any.whl size=13540 sha256=3b3d1ba286cedb427f80d6df4ba8691db069eb44f63c00b2c9dd4a4f77a588e0\n",
            "  Stored in directory: /root/.cache/pip/wheels/c8/d6/6c/384f58df48c00b9a31d638005143b5b3ac62c3d25fb1447f23\n",
            "  Building wheel for feedfinder2 (setup.py) ... \u001b[?25l\u001b[?25hdone\n",
            "  Created wheel for feedfinder2: filename=feedfinder2-0.0.4-py3-none-any.whl size=3342 sha256=302dbbcc58cc31038555c856717bac10588029d2f525809cf5c884edc5ce05f2\n",
            "  Stored in directory: /root/.cache/pip/wheels/97/02/e7/a1ff1760e12bdbaab0ac824fae5c1bc933e41c4ccd6a8f8edb\n",
            "  Building wheel for jieba3k (setup.py) ... \u001b[?25l\u001b[?25hdone\n",
            "  Created wheel for jieba3k: filename=jieba3k-0.35.1-py3-none-any.whl size=7398380 sha256=ff99f03331891445fae9ead2055a015291c4a304119707c627b075f9c536f2ad\n",
            "  Stored in directory: /root/.cache/pip/wheels/7a/c4/0c/12a9a314ecac499456c4c3b2fcc2f635a3b45a39dfbd240299\n",
            "  Building wheel for sgmllib3k (setup.py) ... \u001b[?25l\u001b[?25hdone\n",
            "  Created wheel for sgmllib3k: filename=sgmllib3k-1.0.0-py3-none-any.whl size=6047 sha256=96a1679e5bcbc359c869635da0215fe674940a5217215819436db387bcd1096b\n",
            "  Stored in directory: /root/.cache/pip/wheels/f0/69/93/a47e9d621be168e9e33c7ce60524393c0b92ae83cf6c6e89c5\n",
            "Successfully built tinysegmenter feedfinder2 jieba3k sgmllib3k\n",
            "Installing collected packages: tinysegmenter, sgmllib3k, jieba3k, feedparser, cssselect, requests-file, feedfinder2, tldextract, newspaper3k\n",
            "Successfully installed cssselect-1.2.0 feedfinder2-0.0.4 feedparser-6.0.11 jieba3k-0.35.1 newspaper3k-0.2.8 requests-file-2.1.0 sgmllib3k-1.0.0 tinysegmenter-0.3 tldextract-5.1.2\n"
          ]
        }
      ],
      "source": [
        "pip install newspaper3k feedparser"
      ]
    },
    {
      "cell_type": "code",
      "source": [
        "import newspaper\n",
        "from newspaper import Article\n",
        "import feedparser"
      ],
      "metadata": {
        "id": "rtI2PxW5qCIG"
      },
      "execution_count": 4,
      "outputs": []
    },
    {
      "cell_type": "code",
      "source": [
        "def extract_article(url):\n",
        "    try:\n",
        "        article = Article(url)\n",
        "        article.download()\n",
        "        article.parse()\n",
        "        return {\n",
        "            'title': article.title,\n",
        "            'author': article.authors,\n",
        "            'publish_date': article.publish_date,\n",
        "            'content': article.text\n",
        "        }\n",
        "    except Exception as e:\n",
        "        print(f\"Error processing article at {url}: {e}\")\n",
        "        return None\n",
        "\n",
        "def process_rss_feed(rss_url):\n",
        "    try:\n",
        "        feed = feedparser.parse(rss_url)\n",
        "        articles_info = []\n",
        "        for entry in feed.entries:\n",
        "            article_url = entry.link\n",
        "            article_info = extract_article_info(article_url)\n",
        "            if article_info:  # Only add valid article info\n",
        "                articles_info.append(article_info)\n",
        "        return articles_info\n",
        "    except Exception as e:\n",
        "        print(f\"Error processing RSS feed at {rss_url}: {e}\")\n",
        "        return []\n",
        "if __name__ == \"__main__\":\n",
        "    rss_feed_url = \"https://justinpot.com/rss\"\n",
        "    articles = process_rss_feed(rss_feed_url)\n",
        "    for article in articles:\n",
        "        print(f\"Title: {article['title']}\")\n",
        "        print(f\"Author(s): {', '.join(article['author']) if article['author'] else 'N/A'}\")\n",
        "        print(f\"Publish Date: {article['publish_date']}\")\n",
        "        print(f\"Content: {article['content'][:400]}...\")\n",
        "        print(\"-\" * 70)\n"
      ],
      "metadata": {
        "colab": {
          "base_uri": "https://localhost:8080/"
        },
        "id": "7Zlk7no_vYWA",
        "outputId": "7fdbe266-d1d2-46d4-a1e5-42184c93ee8b"
      },
      "execution_count": 13,
      "outputs": [
        {
          "output_type": "stream",
          "name": "stdout",
          "text": [
            "Title: The internet doesn’t have to feel like this – Justin Pot\n",
            "Author(s): N/A\n",
            "Publish Date: None\n",
            "Content: Living online can feel…numbing. Bo Burnham perhaps captured that best with That Funny Feeling, a song made up of various unrelated phrases that simulate the feeling of scrolling. deadpool’s self-awareness/loving parents/harmless fun/the backlash to the backlash to the thing that’s just begun On and on it goes, and on and on you scroll, until your thumbs (and soul) are numb. carpool karaoke/steve a...\n",
            "----------------------------------------------------------------------\n",
            "Title: Find small ways to feel like yourself – Justin Pot\n",
            "Author(s): N/A\n",
            "Publish Date: None\n",
            "Content: I’ve been freelancing as a journalist full time for two and a half years now, which feels great. I am occasionally exhausted, and sometimes miss the camaraderie of being on a team, but on the other hand I am no longer miserable. Pros and cons.\n",
            "\n",
            "There are all kinds of reasons I was unhappy working full time for a software company. Some of those reasons are specific to the company I was working for—...\n",
            "----------------------------------------------------------------------\n",
            "Title: You’re doing great. – Justin Pot\n",
            "Author(s): N/A\n",
            "Publish Date: None\n",
            "Content: I’ve been exhausted lately, wondering why I’m not getting more done. Then I reviewed my invoices for the year. It turns out I’ve written almost as much this year as I did the entirety of last year. It’s no wonder I’m tired, and I should probably feel less guilty.\n",
            "\n",
            "With this in mind I want to talk to you, yes you, about any lingering sense of guilt you might have. Let it go. You’re doing fine. Bett...\n",
            "----------------------------------------------------------------------\n",
            "Title: Tech is cool; business is boring. – Justin Pot\n",
            "Author(s): N/A\n",
            "Publish Date: None\n",
            "Content: I love technology. I’ve spent most of my career writing about it and I don’t want to do anything else. But there’s a negative tone that runs through my recent work. Why is that?\n",
            "\n",
            "Because a lot of what is referred to as “tech” in our current age is better described as “business”, and business isn’t cool or fun. The companies that call themselves tech companies know this, which is why they call them...\n",
            "----------------------------------------------------------------------\n",
            "Title: Watch me be in three meetings at once – Justin Pot\n",
            "Author(s): N/A\n",
            "Publish Date: None\n",
            "Content: You can be forgiven if you have the impression that I hate AI. I do have profound concerns with the ways the technology is being rolled out, sure, but I’m still an enthusiast at heart and I love playing around with this stuff.\n",
            "\n",
            "This week I wrote about a free transcription application that took a half-hour episode of a radio show and gave me a text transcription in a couple minutes. Even more stagg...\n",
            "----------------------------------------------------------------------\n",
            "Title: Garbage in garbage out – Justin Pot\n",
            "Author(s): N/A\n",
            "Publish Date: None\n",
            "Content: Google put a box of AI-generated text at the top of their search results. If you don’t know what that means, I’m talking about the slow-loading colorful text box you’re seeing lately—it’s Google’s first step toward destroying the internet entirely (as I predicted last summer).\n",
            "\n",
            "I am yet to meet anyone who is excited about this “feature”—at best people seem to begrudgingly accept it. But that doesn...\n",
            "----------------------------------------------------------------------\n",
            "Title: “Number go up” isn’t everything – Justin Pot\n",
            "Author(s): N/A\n",
            "Publish Date: None\n",
            "Content: I have no idea how many people read my articles. I love it.\n",
            "\n",
            "This hasn’t always been true. When I worked at a culty tech company, I was forced to obsess over metrics. I was told I’m not data-driven enough, that I needed to improve. My manager set up a dashboard I was supposed to check regularly, showing me how many people have read which articles. The idea was that seeing which articles “did numbe...\n",
            "----------------------------------------------------------------------\n",
            "Title: The life changing magic of shutting up – Justin Pot\n",
            "Author(s): The Justin Pot Blog\n",
            "Publish Date: None\n",
            "Content: Here’s a secret the people who run social media networks don’t want you to know—the one thing you can do to mess up their entire plan.\n",
            "\n",
            "You can, if you want to, shut the fuck up.\n",
            "\n",
            "It turns out, when something big happens in the news, you don’t have to react to it. You are not a politician, or a pundit, a fact that you should be grateful for every single day of your life. Do you think any of those ...\n",
            "----------------------------------------------------------------------\n",
            "Title: Startup founders: hire me to be your CEO – Justin Pot\n",
            "Author(s): N/A\n",
            "Publish Date: None\n",
            "Content: An open letter.\n",
            "\n",
            "You should make me the CEO of your company. I promise to upset your investors in ways that are really, really, funny.\n",
            "\n",
            "It’s okay to upset investors because they’re not people, just pools of money that long ago gave up on non-fiscal concerns like joy and human connection. You have their money—they can’t hurt you anymore. You can hurt them, though, by hiring me as your CEO.\n",
            "\n",
            "Hire me...\n",
            "----------------------------------------------------------------------\n",
            "Title: In 2020 what we need is utopia, but even Star Trek is jaded – Justin Pot\n",
            "Author(s): N/A\n",
            "Publish Date: None\n",
            "Content: I caught up on Star Trek: Picard. My main thought: What is the point of western civilization if even Star Trek can’t be hopeful?\n",
            "\n",
            "Star Trek was, at some point, about a future where humanity had overcome its issues. There is no longer any war on earth. There’s no scarcity and money is a thing of the past. Humans are motivated primarily by curiosity and a desire for self improvement.\n",
            "\n",
            "Star Trek was,...\n",
            "----------------------------------------------------------------------\n"
          ]
        }
      ]
    }
  ]
}